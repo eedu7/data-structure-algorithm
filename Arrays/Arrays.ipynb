{
 "cells": [
  {
   "metadata": {},
   "cell_type": "markdown",
   "source": [
    "# Arrays\n",
    "- Not built-in\n",
    "- Alternative is `list()` (built-in)\n",
    "- Can use `NumPy` or `array` module, to use array in python\n",
    "- Store elements as contiguous block of memory without pointers, reducing overhead.\n",
    "- Array can store elements of same data type\n",
    "- i.e collections of books, a box of pencils or a wardrobe of cloths\n",
    "- Each element of an array has a unique index.\n",
    "\n",
    "## Why do we need arrays?\n",
    "- What is we need to store 500 integer?\n",
    "    - Are we going to use 500 variables?\"\n",
    "- We can think, an array is a collection of variables of same data types."
   ],
   "id": "18f6664e6942b475"
  },
  {
   "metadata": {},
   "cell_type": "markdown",
   "source": [
    "# Types of Arrays\n",
    "- One Dimensional\n",
    "    - An array with a bunch of values having been declared with a single index\n",
    "    - array: List[int] = [5, 4, 10, 11, 8, 11, 68, 87, 12] \n",
    "        - To get 10 from the array, we can use `array[2]`\n",
    "- Multiple Dimensional\n",
    "    - An array with a bunch of values having declared with double index\n",
    "    - array = [[1, 33, 55, 91, 20, 51, 62, 74, 13], [5, 4, 10, 11, 8, 11, 68, 87, 12]] \n",
    "    - Two Dimensional\n",
    "    - Three Dimensional\n",
    "    - ..............\n",
    "    - N Dimensional"
   ],
   "id": "33f90c67e32c0e03"
  },
  {
   "metadata": {
    "ExecuteTime": {
     "end_time": "2024-10-20T04:32:09.840707Z",
     "start_time": "2024-10-20T04:32:09.835076Z"
    }
   },
   "cell_type": "code",
   "source": [
    "import array\n",
    "\n",
    "my_array = array.array(\"i\")\n",
    "print(my_array)\n",
    "my_array1 = array.array(\"i\", [1, 2, 3, 4])\n",
    "print(my_array1)"
   ],
   "id": "8872a15b76b43aca",
   "outputs": [
    {
     "name": "stdout",
     "output_type": "stream",
     "text": [
      "array('i')\n",
      "array('i', [1, 2, 3, 4])\n"
     ]
    }
   ],
   "execution_count": 15
  },
  {
   "metadata": {
    "ExecuteTime": {
     "end_time": "2024-10-20T04:32:45.211968Z",
     "start_time": "2024-10-20T04:32:45.183633Z"
    }
   },
   "cell_type": "code",
   "source": [
    "# Error, when inserting other data type\n",
    "my_array2 = array.array(\"i\", [1, 2, 3, 4, \"a\"])\n",
    "print(my_array2)"
   ],
   "id": "d827c34403d87d0c",
   "outputs": [
    {
     "ename": "TypeError",
     "evalue": "'str' object cannot be interpreted as an integer",
     "output_type": "error",
     "traceback": [
      "\u001B[1;31m---------------------------------------------------------------------------\u001B[0m",
      "\u001B[1;31mTypeError\u001B[0m                                 Traceback (most recent call last)",
      "Cell \u001B[1;32mIn[17], line 2\u001B[0m\n\u001B[0;32m      1\u001B[0m \u001B[38;5;66;03m# Error, when inserting other data type\u001B[39;00m\n\u001B[1;32m----> 2\u001B[0m my_array2 \u001B[38;5;241m=\u001B[39m \u001B[43marray\u001B[49m\u001B[38;5;241;43m.\u001B[39;49m\u001B[43marray\u001B[49m\u001B[43m(\u001B[49m\u001B[38;5;124;43m\"\u001B[39;49m\u001B[38;5;124;43mi\u001B[39;49m\u001B[38;5;124;43m\"\u001B[39;49m\u001B[43m,\u001B[49m\u001B[43m \u001B[49m\u001B[43m[\u001B[49m\u001B[38;5;241;43m1\u001B[39;49m\u001B[43m,\u001B[49m\u001B[43m \u001B[49m\u001B[38;5;241;43m2\u001B[39;49m\u001B[43m,\u001B[49m\u001B[43m \u001B[49m\u001B[38;5;241;43m3\u001B[39;49m\u001B[43m,\u001B[49m\u001B[43m \u001B[49m\u001B[38;5;241;43m4\u001B[39;49m\u001B[43m,\u001B[49m\u001B[43m \u001B[49m\u001B[38;5;124;43m\"\u001B[39;49m\u001B[38;5;124;43ma\u001B[39;49m\u001B[38;5;124;43m\"\u001B[39;49m\u001B[43m]\u001B[49m\u001B[43m)\u001B[49m\n\u001B[0;32m      3\u001B[0m \u001B[38;5;28mprint\u001B[39m(my_array2)\n",
      "\u001B[1;31mTypeError\u001B[0m: 'str' object cannot be interpreted as an integer"
     ]
    }
   ],
   "execution_count": 17
  },
  {
   "metadata": {
    "ExecuteTime": {
     "end_time": "2024-10-20T04:34:04.055363Z",
     "start_time": "2024-10-20T04:34:04.041455Z"
    }
   },
   "cell_type": "code",
   "source": [
    "import numpy as np\n",
    "\n",
    "np_array = np.array([], dtype=int)\n",
    "print(np_array)\n",
    "np_array1 = np.array([1, 2, 3, 5], dtype=int)\n",
    "print(np_array1)"
   ],
   "id": "b8a7b2b3fdef43e",
   "outputs": [
    {
     "name": "stdout",
     "output_type": "stream",
     "text": [
      "[]\n",
      "[1 2 3 5]\n"
     ]
    }
   ],
   "execution_count": 19
  },
  {
   "metadata": {},
   "cell_type": "code",
   "outputs": [],
   "execution_count": null,
   "source": "",
   "id": "d6e75e22684de9e7"
  }
 ],
 "metadata": {
  "kernelspec": {
   "display_name": "Python 3",
   "language": "python",
   "name": "python3"
  },
  "language_info": {
   "codemirror_mode": {
    "name": "ipython",
    "version": 2
   },
   "file_extension": ".py",
   "mimetype": "text/x-python",
   "name": "python",
   "nbconvert_exporter": "python",
   "pygments_lexer": "ipython2",
   "version": "2.7.6"
  }
 },
 "nbformat": 4,
 "nbformat_minor": 5
}
